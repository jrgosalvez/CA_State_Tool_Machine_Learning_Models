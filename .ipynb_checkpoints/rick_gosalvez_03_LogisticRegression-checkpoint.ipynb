{
 "cells": [
  {
   "cell_type": "markdown",
   "metadata": {},
   "source": [
    "# Logistic Regression\n",
    "#### Data Mining Classification Project\n",
    "Rick Gosalvez, MSDA/SV@Home for HCD/CORE/MidPen/Allied/RCD/Charities"
   ]
  },
  {
   "cell_type": "markdown",
   "metadata": {},
   "source": [
    "## Question"
   ]
  },
  {
   "cell_type": "markdown",
   "metadata": {},
   "source": [
    "#### Are CA AFH State Tools Speeding Up Approvals? What is the Optimal Mix?"
   ]
  },
  {
   "cell_type": "markdown",
   "metadata": {},
   "source": [
    "## Methods"
   ]
  },
  {
   "cell_type": "markdown",
   "metadata": {},
   "source": [
    "<li>Data collected from affordable and market rate developers as well as opensources.\n",
    "<li>Test data validated using 3 methods to classify data (Naives Bayes, Decision Tree/Random Forest, Logisitic Regression).\n",
    "<li>Dimenions reduced to most relevant 21 features."
   ]
  },
  {
   "cell_type": "markdown",
   "metadata": {},
   "source": [
    "## Analysis"
   ]
  },
  {
   "cell_type": "markdown",
   "metadata": {},
   "source": [
    "#### Libraries"
   ]
  },
  {
   "cell_type": "code",
   "execution_count": 1,
   "metadata": {},
   "outputs": [],
   "source": [
    "import numpy as np\n",
    "import pandas as pd\n",
    "import pandas.testing as tm\n",
    "import matplotlib.pyplot as plt\n",
    "import scikitplot as skplt\n",
    "\n",
    "from sklearn.preprocessing import StandardScaler       # Standardization of data\n",
    "from sklearn.preprocessing import LabelEncoder         # Label > Number for analysis\n",
    "\n",
    "from sklearn.metrics import plot_confusion_matrix      # pretty plot confusion matrix\n",
    "from sklearn.model_selection import train_test_split   # Training/Test split\n",
    "\n",
    "from sklearn.linear_model import LogisticRegression    # Logistic regression\n",
    "import statsmodels.api as sm                           # Step model\n",
    "\n",
    "from sklearn.metrics import confusion_matrix, classification_report \n",
    "from sklearn.metrics import accuracy_score, precision_score, recall_score, f1_score, make_scorer\n",
    "from sklearn.metrics import roc_curve "
   ]
  },
  {
   "cell_type": "markdown",
   "metadata": {},
   "source": [
    "#### Load data and preview"
   ]
  },
  {
   "cell_type": "code",
   "execution_count": 2,
   "metadata": {},
   "outputs": [],
   "source": [
    "df = pd.read_csv('DATA_ML_Project_MFR_FINAL.csv', parse_dates=['Submitted','Approved'])\n",
    "#df.head()"
   ]
  },
  {
   "cell_type": "markdown",
   "metadata": {},
   "source": [
    "#### Clean and prepare data"
   ]
  },
  {
   "cell_type": "code",
   "execution_count": 3,
   "metadata": {},
   "outputs": [],
   "source": [
    "# drop names\n",
    "\n",
    "df.drop(columns=['Dev', 'Name','Address'], inplace=True)"
   ]
  },
  {
   "cell_type": "code",
   "execution_count": 4,
   "metadata": {},
   "outputs": [],
   "source": [
    "# Part_AFH (> 15% inclusionary AFH), All_AFH (Y/N)\n",
    "df['All_AFH']  = df.AFH >= df.DU - 2\n",
    "df['Part_AFH'] = df.AFH/df.DU >= 0.15"
   ]
  },
  {
   "cell_type": "code",
   "execution_count": 5,
   "metadata": {},
   "outputs": [],
   "source": [
    "# calculate days and cut-off, if < 180 days '1', else '0'\n",
    "df['Days']         = df.Approved - df.Submitted\n",
    "df['Streamlined']  = df['Days'].dt.days <= 180"
   ]
  },
  {
   "cell_type": "code",
   "execution_count": 6,
   "metadata": {},
   "outputs": [
    {
     "data": {
      "text/html": [
       "<div>\n",
       "<style scoped>\n",
       "    .dataframe tbody tr th:only-of-type {\n",
       "        vertical-align: middle;\n",
       "    }\n",
       "\n",
       "    .dataframe tbody tr th {\n",
       "        vertical-align: top;\n",
       "    }\n",
       "\n",
       "    .dataframe thead th {\n",
       "        text-align: right;\n",
       "    }\n",
       "</style>\n",
       "<table border=\"1\" class=\"dataframe\">\n",
       "  <thead>\n",
       "    <tr style=\"text-align: right;\">\n",
       "      <th></th>\n",
       "      <th>City</th>\n",
       "      <th>GP_COMPLY</th>\n",
       "      <th>Z_COMPLY</th>\n",
       "      <th>TOD</th>\n",
       "      <th>PLAN_AREA</th>\n",
       "      <th>DU</th>\n",
       "      <th>MKT</th>\n",
       "      <th>AFH</th>\n",
       "      <th>SB35</th>\n",
       "      <th>SB330</th>\n",
       "      <th>AB1763</th>\n",
       "      <th>AB2162</th>\n",
       "      <th>AB2345</th>\n",
       "      <th>AB2372</th>\n",
       "      <th>AB3194</th>\n",
       "      <th>All_AFH</th>\n",
       "      <th>Part_AFH</th>\n",
       "      <th>Streamlined</th>\n",
       "    </tr>\n",
       "  </thead>\n",
       "  <tbody>\n",
       "    <tr>\n",
       "      <th>0</th>\n",
       "      <td>Ashland</td>\n",
       "      <td>Y</td>\n",
       "      <td>Y</td>\n",
       "      <td>Y</td>\n",
       "      <td>N</td>\n",
       "      <td>79</td>\n",
       "      <td>1</td>\n",
       "      <td>79</td>\n",
       "      <td>Y</td>\n",
       "      <td>NaN</td>\n",
       "      <td>NaN</td>\n",
       "      <td>NaN</td>\n",
       "      <td>NaN</td>\n",
       "      <td>NaN</td>\n",
       "      <td>NaN</td>\n",
       "      <td>True</td>\n",
       "      <td>True</td>\n",
       "      <td>True</td>\n",
       "    </tr>\n",
       "    <tr>\n",
       "      <th>1</th>\n",
       "      <td>Berkeley</td>\n",
       "      <td>Y</td>\n",
       "      <td>Y</td>\n",
       "      <td>Y</td>\n",
       "      <td>Y</td>\n",
       "      <td>260</td>\n",
       "      <td>130</td>\n",
       "      <td>130</td>\n",
       "      <td>NaN</td>\n",
       "      <td>NaN</td>\n",
       "      <td>NaN</td>\n",
       "      <td>NaN</td>\n",
       "      <td>NaN</td>\n",
       "      <td>NaN</td>\n",
       "      <td>NaN</td>\n",
       "      <td>False</td>\n",
       "      <td>True</td>\n",
       "      <td>False</td>\n",
       "    </tr>\n",
       "    <tr>\n",
       "      <th>2</th>\n",
       "      <td>Berkeley</td>\n",
       "      <td>Y</td>\n",
       "      <td>Y</td>\n",
       "      <td>Y</td>\n",
       "      <td>Y</td>\n",
       "      <td>87</td>\n",
       "      <td>1</td>\n",
       "      <td>86</td>\n",
       "      <td>Y</td>\n",
       "      <td>NaN</td>\n",
       "      <td>NaN</td>\n",
       "      <td>NaN</td>\n",
       "      <td>NaN</td>\n",
       "      <td>NaN</td>\n",
       "      <td>NaN</td>\n",
       "      <td>True</td>\n",
       "      <td>True</td>\n",
       "      <td>True</td>\n",
       "    </tr>\n",
       "    <tr>\n",
       "      <th>3</th>\n",
       "      <td>Berkeley</td>\n",
       "      <td>Y</td>\n",
       "      <td>Y</td>\n",
       "      <td>Y</td>\n",
       "      <td>Y</td>\n",
       "      <td>155</td>\n",
       "      <td>155</td>\n",
       "      <td>0</td>\n",
       "      <td>NaN</td>\n",
       "      <td>Y</td>\n",
       "      <td>NaN</td>\n",
       "      <td>NaN</td>\n",
       "      <td>NaN</td>\n",
       "      <td>NaN</td>\n",
       "      <td>NaN</td>\n",
       "      <td>False</td>\n",
       "      <td>False</td>\n",
       "      <td>False</td>\n",
       "    </tr>\n",
       "    <tr>\n",
       "      <th>4</th>\n",
       "      <td>Berkeley</td>\n",
       "      <td>Y</td>\n",
       "      <td>N</td>\n",
       "      <td>N</td>\n",
       "      <td>N</td>\n",
       "      <td>110</td>\n",
       "      <td>110</td>\n",
       "      <td>0</td>\n",
       "      <td>NaN</td>\n",
       "      <td>Y</td>\n",
       "      <td>NaN</td>\n",
       "      <td>NaN</td>\n",
       "      <td>NaN</td>\n",
       "      <td>NaN</td>\n",
       "      <td>NaN</td>\n",
       "      <td>False</td>\n",
       "      <td>False</td>\n",
       "      <td>True</td>\n",
       "    </tr>\n",
       "  </tbody>\n",
       "</table>\n",
       "</div>"
      ],
      "text/plain": [
       "        City GP_COMPLY Z_COMPLY TOD PLAN_AREA   DU  MKT  AFH SB35 SB330  \\\n",
       "0    Ashland         Y        Y   Y         N   79    1   79    Y   NaN   \n",
       "1  Berkeley          Y        Y   Y         Y  260  130  130  NaN   NaN   \n",
       "2  Berkeley          Y        Y   Y         Y   87    1   86    Y   NaN   \n",
       "3  Berkeley          Y        Y   Y         Y  155  155    0  NaN     Y   \n",
       "4  Berkeley          Y        N   N         N  110  110    0  NaN     Y   \n",
       "\n",
       "  AB1763 AB2162 AB2345  AB2372 AB3194  All_AFH  Part_AFH  Streamlined  \n",
       "0    NaN    NaN    NaN     NaN    NaN     True      True         True  \n",
       "1    NaN    NaN    NaN     NaN    NaN    False      True        False  \n",
       "2    NaN    NaN    NaN     NaN    NaN     True      True         True  \n",
       "3    NaN    NaN    NaN     NaN    NaN    False     False        False  \n",
       "4    NaN    NaN    NaN     NaN    NaN    False     False         True  "
      ]
     },
     "execution_count": 6,
     "metadata": {},
     "output_type": "execute_result"
    }
   ],
   "source": [
    "# drop unused columns\n",
    "df.drop(columns=['Submitted', 'Approved','Days'], inplace=True)\n",
    "df.head()"
   ]
  },
  {
   "cell_type": "code",
   "execution_count": 7,
   "metadata": {},
   "outputs": [
    {
     "data": {
      "text/html": [
       "<div>\n",
       "<style scoped>\n",
       "    .dataframe tbody tr th:only-of-type {\n",
       "        vertical-align: middle;\n",
       "    }\n",
       "\n",
       "    .dataframe tbody tr th {\n",
       "        vertical-align: top;\n",
       "    }\n",
       "\n",
       "    .dataframe thead th {\n",
       "        text-align: right;\n",
       "    }\n",
       "</style>\n",
       "<table border=\"1\" class=\"dataframe\">\n",
       "  <thead>\n",
       "    <tr style=\"text-align: right;\">\n",
       "      <th></th>\n",
       "      <th>City</th>\n",
       "      <th>GP_COMPLY</th>\n",
       "      <th>Z_COMPLY</th>\n",
       "      <th>TOD</th>\n",
       "      <th>PLAN_AREA</th>\n",
       "      <th>DU</th>\n",
       "      <th>MKT</th>\n",
       "      <th>AFH</th>\n",
       "      <th>SB35</th>\n",
       "      <th>SB330</th>\n",
       "      <th>AB1763</th>\n",
       "      <th>AB2162</th>\n",
       "      <th>AB2345</th>\n",
       "      <th>AB2372</th>\n",
       "      <th>AB3194</th>\n",
       "      <th>All_AFH</th>\n",
       "      <th>Part_AFH</th>\n",
       "      <th>Streamlined</th>\n",
       "    </tr>\n",
       "  </thead>\n",
       "  <tbody>\n",
       "    <tr>\n",
       "      <th>0</th>\n",
       "      <td>Ashland</td>\n",
       "      <td>Y</td>\n",
       "      <td>Y</td>\n",
       "      <td>Y</td>\n",
       "      <td>N</td>\n",
       "      <td>79</td>\n",
       "      <td>1</td>\n",
       "      <td>79</td>\n",
       "      <td>Y</td>\n",
       "      <td>0</td>\n",
       "      <td>0</td>\n",
       "      <td>0</td>\n",
       "      <td>0</td>\n",
       "      <td>0.0</td>\n",
       "      <td>0</td>\n",
       "      <td>True</td>\n",
       "      <td>True</td>\n",
       "      <td>True</td>\n",
       "    </tr>\n",
       "    <tr>\n",
       "      <th>1</th>\n",
       "      <td>Berkeley</td>\n",
       "      <td>Y</td>\n",
       "      <td>Y</td>\n",
       "      <td>Y</td>\n",
       "      <td>Y</td>\n",
       "      <td>260</td>\n",
       "      <td>130</td>\n",
       "      <td>130</td>\n",
       "      <td>0</td>\n",
       "      <td>0</td>\n",
       "      <td>0</td>\n",
       "      <td>0</td>\n",
       "      <td>0</td>\n",
       "      <td>0.0</td>\n",
       "      <td>0</td>\n",
       "      <td>False</td>\n",
       "      <td>True</td>\n",
       "      <td>False</td>\n",
       "    </tr>\n",
       "    <tr>\n",
       "      <th>2</th>\n",
       "      <td>Berkeley</td>\n",
       "      <td>Y</td>\n",
       "      <td>Y</td>\n",
       "      <td>Y</td>\n",
       "      <td>Y</td>\n",
       "      <td>87</td>\n",
       "      <td>1</td>\n",
       "      <td>86</td>\n",
       "      <td>Y</td>\n",
       "      <td>0</td>\n",
       "      <td>0</td>\n",
       "      <td>0</td>\n",
       "      <td>0</td>\n",
       "      <td>0.0</td>\n",
       "      <td>0</td>\n",
       "      <td>True</td>\n",
       "      <td>True</td>\n",
       "      <td>True</td>\n",
       "    </tr>\n",
       "    <tr>\n",
       "      <th>3</th>\n",
       "      <td>Berkeley</td>\n",
       "      <td>Y</td>\n",
       "      <td>Y</td>\n",
       "      <td>Y</td>\n",
       "      <td>Y</td>\n",
       "      <td>155</td>\n",
       "      <td>155</td>\n",
       "      <td>0</td>\n",
       "      <td>0</td>\n",
       "      <td>Y</td>\n",
       "      <td>0</td>\n",
       "      <td>0</td>\n",
       "      <td>0</td>\n",
       "      <td>0.0</td>\n",
       "      <td>0</td>\n",
       "      <td>False</td>\n",
       "      <td>False</td>\n",
       "      <td>False</td>\n",
       "    </tr>\n",
       "    <tr>\n",
       "      <th>4</th>\n",
       "      <td>Berkeley</td>\n",
       "      <td>Y</td>\n",
       "      <td>N</td>\n",
       "      <td>N</td>\n",
       "      <td>N</td>\n",
       "      <td>110</td>\n",
       "      <td>110</td>\n",
       "      <td>0</td>\n",
       "      <td>0</td>\n",
       "      <td>Y</td>\n",
       "      <td>0</td>\n",
       "      <td>0</td>\n",
       "      <td>0</td>\n",
       "      <td>0.0</td>\n",
       "      <td>0</td>\n",
       "      <td>False</td>\n",
       "      <td>False</td>\n",
       "      <td>True</td>\n",
       "    </tr>\n",
       "  </tbody>\n",
       "</table>\n",
       "</div>"
      ],
      "text/plain": [
       "        City GP_COMPLY Z_COMPLY TOD PLAN_AREA   DU  MKT  AFH SB35 SB330  \\\n",
       "0    Ashland         Y        Y   Y         N   79    1   79    Y     0   \n",
       "1  Berkeley          Y        Y   Y         Y  260  130  130    0     0   \n",
       "2  Berkeley          Y        Y   Y         Y   87    1   86    Y     0   \n",
       "3  Berkeley          Y        Y   Y         Y  155  155    0    0     Y   \n",
       "4  Berkeley          Y        N   N         N  110  110    0    0     Y   \n",
       "\n",
       "  AB1763 AB2162 AB2345  AB2372 AB3194  All_AFH  Part_AFH  Streamlined  \n",
       "0      0      0      0     0.0      0     True      True         True  \n",
       "1      0      0      0     0.0      0    False      True        False  \n",
       "2      0      0      0     0.0      0     True      True         True  \n",
       "3      0      0      0     0.0      0    False     False        False  \n",
       "4      0      0      0     0.0      0    False     False         True  "
      ]
     },
     "execution_count": 7,
     "metadata": {},
     "output_type": "execute_result"
    }
   ],
   "source": [
    "# filling in NaN with 0\n",
    "df[\"SB35\"].fillna(0, inplace = True)\n",
    "df[\"SB330\"].fillna(0, inplace = True)\n",
    "df[\"AB1763\"].fillna(0, inplace = True)\n",
    "df[\"AB2162\"].fillna(0, inplace = True)\n",
    "df[\"AB2345\"].fillna(0, inplace = True)\n",
    "df[\"AB2372\"].fillna(0, inplace = True)\n",
    "df[\"AB3194\"].fillna(0, inplace = True)\n",
    "df.head()"
   ]
  },
  {
   "cell_type": "code",
   "execution_count": 8,
   "metadata": {},
   "outputs": [],
   "source": [
    "# convert 'AB2372' from float to int\n",
    "df['AB2372'] = df['AB2372'].astype(int)"
   ]
  },
  {
   "cell_type": "code",
   "execution_count": 9,
   "metadata": {},
   "outputs": [],
   "source": [
    "# converting 'Streamlined' boolean to int\n",
    "df['All_AFH']     = df.apply(lambda row: row['All_AFH'] == True, axis=1).astype(int)\n",
    "df['Part_AFH']    = df.apply(lambda row: row['Part_AFH'] == True, axis=1).astype(int)\n",
    "df['Streamlined'] = df.apply(lambda row: row['Streamlined'] == True, axis=1).astype(int)"
   ]
  },
  {
   "cell_type": "code",
   "execution_count": 10,
   "metadata": {},
   "outputs": [
    {
     "data": {
      "text/html": [
       "<div>\n",
       "<style scoped>\n",
       "    .dataframe tbody tr th:only-of-type {\n",
       "        vertical-align: middle;\n",
       "    }\n",
       "\n",
       "    .dataframe tbody tr th {\n",
       "        vertical-align: top;\n",
       "    }\n",
       "\n",
       "    .dataframe thead th {\n",
       "        text-align: right;\n",
       "    }\n",
       "</style>\n",
       "<table border=\"1\" class=\"dataframe\">\n",
       "  <thead>\n",
       "    <tr style=\"text-align: right;\">\n",
       "      <th></th>\n",
       "      <th>City</th>\n",
       "      <th>GP_COMPLY</th>\n",
       "      <th>Z_COMPLY</th>\n",
       "      <th>TOD</th>\n",
       "      <th>PLAN_AREA</th>\n",
       "      <th>DU</th>\n",
       "      <th>MKT</th>\n",
       "      <th>AFH</th>\n",
       "      <th>SB35</th>\n",
       "      <th>SB330</th>\n",
       "      <th>AB1763</th>\n",
       "      <th>AB2162</th>\n",
       "      <th>AB2345</th>\n",
       "      <th>AB2372</th>\n",
       "      <th>AB3194</th>\n",
       "      <th>All_AFH</th>\n",
       "      <th>Part_AFH</th>\n",
       "      <th>Streamlined</th>\n",
       "    </tr>\n",
       "  </thead>\n",
       "  <tbody>\n",
       "    <tr>\n",
       "      <th>0</th>\n",
       "      <td>Ashland</td>\n",
       "      <td>1</td>\n",
       "      <td>1</td>\n",
       "      <td>1</td>\n",
       "      <td>0</td>\n",
       "      <td>79</td>\n",
       "      <td>1</td>\n",
       "      <td>79</td>\n",
       "      <td>1</td>\n",
       "      <td>0</td>\n",
       "      <td>0</td>\n",
       "      <td>0</td>\n",
       "      <td>0</td>\n",
       "      <td>0</td>\n",
       "      <td>0</td>\n",
       "      <td>1</td>\n",
       "      <td>1</td>\n",
       "      <td>1</td>\n",
       "    </tr>\n",
       "    <tr>\n",
       "      <th>1</th>\n",
       "      <td>Berkeley</td>\n",
       "      <td>1</td>\n",
       "      <td>1</td>\n",
       "      <td>1</td>\n",
       "      <td>1</td>\n",
       "      <td>260</td>\n",
       "      <td>130</td>\n",
       "      <td>130</td>\n",
       "      <td>0</td>\n",
       "      <td>0</td>\n",
       "      <td>0</td>\n",
       "      <td>0</td>\n",
       "      <td>0</td>\n",
       "      <td>0</td>\n",
       "      <td>0</td>\n",
       "      <td>0</td>\n",
       "      <td>1</td>\n",
       "      <td>0</td>\n",
       "    </tr>\n",
       "    <tr>\n",
       "      <th>2</th>\n",
       "      <td>Berkeley</td>\n",
       "      <td>1</td>\n",
       "      <td>1</td>\n",
       "      <td>1</td>\n",
       "      <td>1</td>\n",
       "      <td>87</td>\n",
       "      <td>1</td>\n",
       "      <td>86</td>\n",
       "      <td>1</td>\n",
       "      <td>0</td>\n",
       "      <td>0</td>\n",
       "      <td>0</td>\n",
       "      <td>0</td>\n",
       "      <td>0</td>\n",
       "      <td>0</td>\n",
       "      <td>1</td>\n",
       "      <td>1</td>\n",
       "      <td>1</td>\n",
       "    </tr>\n",
       "    <tr>\n",
       "      <th>3</th>\n",
       "      <td>Berkeley</td>\n",
       "      <td>1</td>\n",
       "      <td>1</td>\n",
       "      <td>1</td>\n",
       "      <td>1</td>\n",
       "      <td>155</td>\n",
       "      <td>155</td>\n",
       "      <td>0</td>\n",
       "      <td>0</td>\n",
       "      <td>1</td>\n",
       "      <td>0</td>\n",
       "      <td>0</td>\n",
       "      <td>0</td>\n",
       "      <td>0</td>\n",
       "      <td>0</td>\n",
       "      <td>0</td>\n",
       "      <td>0</td>\n",
       "      <td>0</td>\n",
       "    </tr>\n",
       "    <tr>\n",
       "      <th>4</th>\n",
       "      <td>Berkeley</td>\n",
       "      <td>1</td>\n",
       "      <td>0</td>\n",
       "      <td>0</td>\n",
       "      <td>0</td>\n",
       "      <td>110</td>\n",
       "      <td>110</td>\n",
       "      <td>0</td>\n",
       "      <td>0</td>\n",
       "      <td>1</td>\n",
       "      <td>0</td>\n",
       "      <td>0</td>\n",
       "      <td>0</td>\n",
       "      <td>0</td>\n",
       "      <td>0</td>\n",
       "      <td>0</td>\n",
       "      <td>0</td>\n",
       "      <td>1</td>\n",
       "    </tr>\n",
       "  </tbody>\n",
       "</table>\n",
       "</div>"
      ],
      "text/plain": [
       "        City  GP_COMPLY  Z_COMPLY  TOD  PLAN_AREA   DU  MKT  AFH  SB35  SB330  \\\n",
       "0    Ashland          1         1    1          0   79    1   79     1      0   \n",
       "1  Berkeley           1         1    1          1  260  130  130     0      0   \n",
       "2  Berkeley           1         1    1          1   87    1   86     1      0   \n",
       "3  Berkeley           1         1    1          1  155  155    0     0      1   \n",
       "4  Berkeley           1         0    0          0  110  110    0     0      1   \n",
       "\n",
       "   AB1763  AB2162  AB2345  AB2372  AB3194  All_AFH  Part_AFH  Streamlined  \n",
       "0       0       0       0       0       0        1         1            1  \n",
       "1       0       0       0       0       0        0         1            0  \n",
       "2       0       0       0       0       0        1         1            1  \n",
       "3       0       0       0       0       0        0         0            0  \n",
       "4       0       0       0       0       0        0         0            1  "
      ]
     },
     "execution_count": 10,
     "metadata": {},
     "output_type": "execute_result"
    }
   ],
   "source": [
    "# convert Y and N to 1 and 0 (binary)\n",
    "df = df.replace(['Y'],1)\n",
    "df = df.replace(['N'],0)\n",
    "df.head()"
   ]
  },
  {
   "cell_type": "markdown",
   "metadata": {},
   "source": [
    "### 2. Split input and output"
   ]
  },
  {
   "cell_type": "code",
   "execution_count": 11,
   "metadata": {},
   "outputs": [
    {
     "data": {
      "text/plain": [
       "Index(['DU', 'MKT', 'AFH', 'GP_COMPLY', 'Z_COMPLY', 'TOD', 'PLAN_AREA', 'SB35',\n",
       "       'SB330', 'AB1763', 'AB2162', 'AB2345', 'AB2372', 'AB3194', 'All_AFH',\n",
       "       'Part_AFH'],\n",
       "      dtype='object')"
      ]
     },
     "execution_count": 11,
     "metadata": {},
     "output_type": "execute_result"
    }
   ],
   "source": [
    "# 17 input features (data attributes). Remove city; NOT numeric.\n",
    "X = df.loc[:,['DU', 'MKT', 'AFH', 'GP_COMPLY', 'Z_COMPLY', 'TOD', 'PLAN_AREA', 'SB35',\n",
    "       'SB330', 'AB1763', 'AB2162', 'AB2345', 'AB2372', 'AB3194', 'All_AFH',\n",
    "       'Part_AFH']]\n",
    "X.keys()"
   ]
  },
  {
   "cell_type": "code",
   "execution_count": 12,
   "metadata": {},
   "outputs": [],
   "source": [
    "# outcome/output\n",
    "y=df['Streamlined']"
   ]
  },
  {
   "cell_type": "code",
   "execution_count": 13,
   "metadata": {},
   "outputs": [
    {
     "data": {
      "text/plain": [
       "array([1, 0, 1, 0, 1, 1, 0, 0, 1, 1, 0, 0, 1, 0, 0, 1, 0, 1, 0, 0, 0, 1,\n",
       "       0, 0, 0, 0, 0, 0, 1, 1, 1, 0, 0, 0, 0, 0, 1, 1, 0, 0, 0, 0, 1, 0,\n",
       "       0, 0, 0, 0, 1, 0, 0, 0, 0, 0, 0, 0, 0, 0, 1, 0, 0, 0, 0, 0, 0, 0,\n",
       "       0, 0, 0, 0, 0, 0, 0, 0, 1, 1, 1, 0, 0, 0, 0, 0, 0, 0, 0, 0, 0, 0,\n",
       "       0, 0, 0, 0, 0, 0, 0, 0, 0, 0, 1, 0, 0, 0, 1, 0, 0, 0, 0, 0, 0, 0,\n",
       "       1, 1])"
      ]
     },
     "execution_count": 13,
     "metadata": {},
     "output_type": "execute_result"
    }
   ],
   "source": [
    "class_le = LabelEncoder()\n",
    "y = class_le.fit_transform(y)\n",
    "y"
   ]
  },
  {
   "cell_type": "code",
   "execution_count": 14,
   "metadata": {},
   "outputs": [
    {
     "data": {
      "text/html": [
       "<div>\n",
       "<style scoped>\n",
       "    .dataframe tbody tr th:only-of-type {\n",
       "        vertical-align: middle;\n",
       "    }\n",
       "\n",
       "    .dataframe tbody tr th {\n",
       "        vertical-align: top;\n",
       "    }\n",
       "\n",
       "    .dataframe thead th {\n",
       "        text-align: right;\n",
       "    }\n",
       "</style>\n",
       "<table border=\"1\" class=\"dataframe\">\n",
       "  <thead>\n",
       "    <tr style=\"text-align: right;\">\n",
       "      <th></th>\n",
       "      <th>DU</th>\n",
       "      <th>MKT</th>\n",
       "      <th>AFH</th>\n",
       "      <th>GP_COMPLY</th>\n",
       "      <th>Z_COMPLY</th>\n",
       "      <th>TOD</th>\n",
       "      <th>PLAN_AREA</th>\n",
       "      <th>SB35</th>\n",
       "      <th>SB330</th>\n",
       "      <th>AB1763</th>\n",
       "      <th>AB2162</th>\n",
       "      <th>AB2345</th>\n",
       "      <th>AB2372</th>\n",
       "      <th>AB3194</th>\n",
       "      <th>All_AFH</th>\n",
       "      <th>Part_AFH</th>\n",
       "    </tr>\n",
       "  </thead>\n",
       "  <tbody>\n",
       "    <tr>\n",
       "      <th>0</th>\n",
       "      <td>-0.352965</td>\n",
       "      <td>-0.496316</td>\n",
       "      <td>0.028307</td>\n",
       "      <td>1</td>\n",
       "      <td>1</td>\n",
       "      <td>1</td>\n",
       "      <td>0</td>\n",
       "      <td>1</td>\n",
       "      <td>0</td>\n",
       "      <td>0</td>\n",
       "      <td>0</td>\n",
       "      <td>0</td>\n",
       "      <td>0</td>\n",
       "      <td>0</td>\n",
       "      <td>1</td>\n",
       "      <td>1</td>\n",
       "    </tr>\n",
       "    <tr>\n",
       "      <th>1</th>\n",
       "      <td>0.314072</td>\n",
       "      <td>0.165378</td>\n",
       "      <td>0.450479</td>\n",
       "      <td>1</td>\n",
       "      <td>1</td>\n",
       "      <td>1</td>\n",
       "      <td>1</td>\n",
       "      <td>0</td>\n",
       "      <td>0</td>\n",
       "      <td>0</td>\n",
       "      <td>0</td>\n",
       "      <td>0</td>\n",
       "      <td>0</td>\n",
       "      <td>0</td>\n",
       "      <td>0</td>\n",
       "      <td>1</td>\n",
       "    </tr>\n",
       "    <tr>\n",
       "      <th>2</th>\n",
       "      <td>-0.323483</td>\n",
       "      <td>-0.496316</td>\n",
       "      <td>0.086252</td>\n",
       "      <td>1</td>\n",
       "      <td>1</td>\n",
       "      <td>1</td>\n",
       "      <td>1</td>\n",
       "      <td>1</td>\n",
       "      <td>0</td>\n",
       "      <td>0</td>\n",
       "      <td>0</td>\n",
       "      <td>0</td>\n",
       "      <td>0</td>\n",
       "      <td>0</td>\n",
       "      <td>1</td>\n",
       "      <td>1</td>\n",
       "    </tr>\n",
       "    <tr>\n",
       "      <th>3</th>\n",
       "      <td>-0.072883</td>\n",
       "      <td>0.293613</td>\n",
       "      <td>-0.625644</td>\n",
       "      <td>1</td>\n",
       "      <td>1</td>\n",
       "      <td>1</td>\n",
       "      <td>1</td>\n",
       "      <td>0</td>\n",
       "      <td>1</td>\n",
       "      <td>0</td>\n",
       "      <td>0</td>\n",
       "      <td>0</td>\n",
       "      <td>0</td>\n",
       "      <td>0</td>\n",
       "      <td>0</td>\n",
       "      <td>0</td>\n",
       "    </tr>\n",
       "    <tr>\n",
       "      <th>4</th>\n",
       "      <td>-0.238721</td>\n",
       "      <td>0.062789</td>\n",
       "      <td>-0.625644</td>\n",
       "      <td>1</td>\n",
       "      <td>0</td>\n",
       "      <td>0</td>\n",
       "      <td>0</td>\n",
       "      <td>0</td>\n",
       "      <td>1</td>\n",
       "      <td>0</td>\n",
       "      <td>0</td>\n",
       "      <td>0</td>\n",
       "      <td>0</td>\n",
       "      <td>0</td>\n",
       "      <td>0</td>\n",
       "      <td>0</td>\n",
       "    </tr>\n",
       "  </tbody>\n",
       "</table>\n",
       "</div>"
      ],
      "text/plain": [
       "         DU       MKT       AFH  GP_COMPLY  Z_COMPLY  TOD  PLAN_AREA  SB35  \\\n",
       "0 -0.352965 -0.496316  0.028307          1         1    1          0     1   \n",
       "1  0.314072  0.165378  0.450479          1         1    1          1     0   \n",
       "2 -0.323483 -0.496316  0.086252          1         1    1          1     1   \n",
       "3 -0.072883  0.293613 -0.625644          1         1    1          1     0   \n",
       "4 -0.238721  0.062789 -0.625644          1         0    0          0     0   \n",
       "\n",
       "   SB330  AB1763  AB2162  AB2345  AB2372  AB3194  All_AFH  Part_AFH  \n",
       "0      0       0       0       0       0       0        1         1  \n",
       "1      0       0       0       0       0       0        0         1  \n",
       "2      0       0       0       0       0       0        1         1  \n",
       "3      1       0       0       0       0       0        0         0  \n",
       "4      1       0       0       0       0       0        0         0  "
      ]
     },
     "execution_count": 14,
     "metadata": {},
     "output_type": "execute_result"
    }
   ],
   "source": [
    "# normalize all non-binary features (e.g.'DU', 'MKT','AFH')\n",
    "\n",
    "stdsc = StandardScaler()\n",
    "X.iloc[:,[0,1,2]] = stdsc.fit_transform(X.iloc[:,[0,1,2]])\n",
    "#X['Intercept'] = 1     # if set intercept before, removes warning, but not recommended, changes logistic regression!!!\n",
    "X.head()"
   ]
  },
  {
   "cell_type": "markdown",
   "metadata": {},
   "source": [
    "#### Check dataframe for null values"
   ]
  },
  {
   "cell_type": "code",
   "execution_count": 15,
   "metadata": {},
   "outputs": [
    {
     "data": {
      "text/plain": [
       "False"
      ]
     },
     "execution_count": 15,
     "metadata": {},
     "output_type": "execute_result"
    }
   ],
   "source": [
    "df.isnull().values.any()"
   ]
  },
  {
   "cell_type": "markdown",
   "metadata": {},
   "source": [
    "### 3. Split into test and training"
   ]
  },
  {
   "cell_type": "markdown",
   "metadata": {},
   "source": [
    "<b>NOTE:</b> \n",
    "* Tested setting test_size @ 15% and 20%. 15% worked better with smaller dataset (dataset < 75) so model had more to train from; however, 20% worked well after increasing dataset > 100 data points and this is expected to improve with data.\n",
    "* Tested L1 vs L2 (default) penalty. L1 generated low accuracy and random_state affected ROC AUC. "
   ]
  },
  {
   "cell_type": "code",
   "execution_count": 16,
   "metadata": {},
   "outputs": [],
   "source": [
    "X_train, X_test, y_train, y_test = train_test_split(X,y,test_size=0.2)  # increase training size can improve accuracy of smaller datasets. "
   ]
  },
  {
   "cell_type": "code",
   "execution_count": 17,
   "metadata": {},
   "outputs": [
    {
     "data": {
      "text/plain": [
       "LogisticRegression(random_state=1, solver='liblinear')"
      ]
     },
     "execution_count": 17,
     "metadata": {},
     "output_type": "execute_result"
    }
   ],
   "source": [
    "logistic = LogisticRegression(solver='liblinear', random_state=1) # good optimizer for smaller datasets\n",
    "# logistic = LogisticRegression() \n",
    "logistic.fit(X_train, y_train)"
   ]
  },
  {
   "cell_type": "code",
   "execution_count": 18,
   "metadata": {},
   "outputs": [],
   "source": [
    "y_pred = logistic.predict(X_test) "
   ]
  },
  {
   "cell_type": "code",
   "execution_count": 19,
   "metadata": {},
   "outputs": [
    {
     "name": "stdout",
     "output_type": "stream",
     "text": [
      "Model Accuracy Score: 0.7391304347826086\n"
     ]
    }
   ],
   "source": [
    "print(f'Model Accuracy Score: {accuracy_score(y_test,y_pred)}')"
   ]
  },
  {
   "cell_type": "code",
   "execution_count": 20,
   "metadata": {},
   "outputs": [
    {
     "name": "stdout",
     "output_type": "stream",
     "text": [
      "              precision    recall  f1-score   support\n",
      "\n",
      "           0       0.80      0.89      0.84        18\n",
      "           1       0.33      0.20      0.25         5\n",
      "\n",
      "    accuracy                           0.74        23\n",
      "   macro avg       0.57      0.54      0.55        23\n",
      "weighted avg       0.70      0.74      0.71        23\n",
      "\n"
     ]
    }
   ],
   "source": [
    "print(classification_report(y_test, y_pred))"
   ]
  },
  {
   "cell_type": "markdown",
   "metadata": {},
   "source": [
    "### 4. Confusion Matrix"
   ]
  },
  {
   "cell_type": "code",
   "execution_count": 21,
   "metadata": {},
   "outputs": [
    {
     "data": {
      "text/html": [
       "<div>\n",
       "<style scoped>\n",
       "    .dataframe tbody tr th:only-of-type {\n",
       "        vertical-align: middle;\n",
       "    }\n",
       "\n",
       "    .dataframe tbody tr th {\n",
       "        vertical-align: top;\n",
       "    }\n",
       "\n",
       "    .dataframe thead th {\n",
       "        text-align: right;\n",
       "    }\n",
       "</style>\n",
       "<table border=\"1\" class=\"dataframe\">\n",
       "  <thead>\n",
       "    <tr style=\"text-align: right;\">\n",
       "      <th></th>\n",
       "      <th>Predict[0]</th>\n",
       "      <th>Predict[1]</th>\n",
       "    </tr>\n",
       "  </thead>\n",
       "  <tbody>\n",
       "    <tr>\n",
       "      <th>True[0]</th>\n",
       "      <td>16</td>\n",
       "      <td>2</td>\n",
       "    </tr>\n",
       "    <tr>\n",
       "      <th>True[1]</th>\n",
       "      <td>4</td>\n",
       "      <td>1</td>\n",
       "    </tr>\n",
       "  </tbody>\n",
       "</table>\n",
       "</div>"
      ],
      "text/plain": [
       "         Predict[0]  Predict[1]\n",
       "True[0]          16           2\n",
       "True[1]           4           1"
      ]
     },
     "execution_count": 21,
     "metadata": {},
     "output_type": "execute_result"
    }
   ],
   "source": [
    "confmat = pd.DataFrame(confusion_matrix(y_test, y_pred),\n",
    "                      index  =['True[0]','True[1]'],\n",
    "                      columns=['Predict[0]','Predict[1]'])\n",
    "confmat"
   ]
  },
  {
   "cell_type": "markdown",
   "metadata": {},
   "source": [
    "### 5. Draw ROC Curve and cumulative gain chart"
   ]
  },
  {
   "cell_type": "code",
   "execution_count": 22,
   "metadata": {},
   "outputs": [
    {
     "data": {
      "image/png": "[encoded data removed]",
      "text/plain": [
       "<Figure size 432x288 with 1 Axes>"
      ]
     },
     "metadata": {
      "needs_background": "light"
     },
     "output_type": "display_data"
    }
   ],
   "source": [
    "fpr, tpr, thresholds = roc_curve(y_test, logistic.predict_proba(X_test)[:,1])\n",
    "plt.plot(fpr, tpr, '--', label=\"Logistic Regression\")\n",
    "plt.plot([0,1],[0,1],'k--', label='Random Guess')\n",
    "plt.plot([fpr],[tpr], 'r-', ms=10)\n",
    "plt.xlabel('FPR')\n",
    "plt.ylabel('TPR')\n",
    "plt.title('ROC')\n",
    "plt.show()"
   ]
  },
  {
   "cell_type": "code",
   "execution_count": 23,
   "metadata": {},
   "outputs": [
    {
     "data": {
      "image/png": "[encoded data removed]",
      "text/plain": [
       "<Figure size 432x288 with 1 Axes>"
      ]
     },
     "metadata": {
      "needs_background": "light"
     },
     "output_type": "display_data"
    }
   ],
   "source": [
    "skplt.metrics.plot_roc(y_test, logistic.predict_proba(X_test), plot_micro=False)\n",
    "plt.show()"
   ]
  },
  {
   "cell_type": "code",
   "execution_count": 24,
   "metadata": {},
   "outputs": [
    {
     "data": {
      "image/png": "[encoded data removed]",
      "text/plain": [
       "<Figure size 432x288 with 1 Axes>"
      ]
     },
     "metadata": {
      "needs_background": "light"
     },
     "output_type": "display_data"
    }
   ],
   "source": [
    "skplt.metrics.plot_cumulative_gain(y_test, logistic.predict_proba(X_test))\n",
    "plt.show()"
   ]
  },
  {
   "cell_type": "markdown",
   "metadata": {},
   "source": [
    "### 6. Use sm.logit with \"intercept=1\" to check coefficients"
   ]
  },
  {
   "cell_type": "code",
   "execution_count": 25,
   "metadata": {},
   "outputs": [],
   "source": [
    "# Set intercept after split\n",
    "X['Intercept'] = 1  "
   ]
  },
  {
   "cell_type": "code",
   "execution_count": 26,
   "metadata": {},
   "outputs": [],
   "source": [
    "# Ensure no singularity matrix (1:1 correlations between columns except with self)\n",
    "n = len(X)\n",
    "X = X+0.001*np.random.rand(n, 17)"
   ]
  },
  {
   "cell_type": "code",
   "execution_count": 27,
   "metadata": {},
   "outputs": [
    {
     "data": {
      "text/html": [
       "<div>\n",
       "<style scoped>\n",
       "    .dataframe tbody tr th:only-of-type {\n",
       "        vertical-align: middle;\n",
       "    }\n",
       "\n",
       "    .dataframe tbody tr th {\n",
       "        vertical-align: top;\n",
       "    }\n",
       "\n",
       "    .dataframe thead th {\n",
       "        text-align: right;\n",
       "    }\n",
       "</style>\n",
       "<table border=\"1\" class=\"dataframe\">\n",
       "  <thead>\n",
       "    <tr style=\"text-align: right;\">\n",
       "      <th></th>\n",
       "      <th>DU</th>\n",
       "      <th>MKT</th>\n",
       "      <th>AFH</th>\n",
       "      <th>GP_COMPLY</th>\n",
       "      <th>Z_COMPLY</th>\n",
       "      <th>TOD</th>\n",
       "      <th>PLAN_AREA</th>\n",
       "      <th>SB35</th>\n",
       "      <th>SB330</th>\n",
       "      <th>AB1763</th>\n",
       "      <th>AB2162</th>\n",
       "      <th>AB2345</th>\n",
       "      <th>AB2372</th>\n",
       "      <th>AB3194</th>\n",
       "      <th>All_AFH</th>\n",
       "      <th>Part_AFH</th>\n",
       "      <th>Intercept</th>\n",
       "    </tr>\n",
       "  </thead>\n",
       "  <tbody>\n",
       "    <tr>\n",
       "      <th>DU</th>\n",
       "      <td>1.000000</td>\n",
       "      <td>0.915864</td>\n",
       "      <td>0.749480</td>\n",
       "      <td>-0.190087</td>\n",
       "      <td>-0.133504</td>\n",
       "      <td>0.014112</td>\n",
       "      <td>0.074240</td>\n",
       "      <td>0.080754</td>\n",
       "      <td>0.212638</td>\n",
       "      <td>-0.067023</td>\n",
       "      <td>-0.068294</td>\n",
       "      <td>0.111368</td>\n",
       "      <td>-0.128308</td>\n",
       "      <td>-0.002959</td>\n",
       "      <td>-0.292609</td>\n",
       "      <td>-0.116271</td>\n",
       "      <td>0.023137</td>\n",
       "    </tr>\n",
       "    <tr>\n",
       "      <th>MKT</th>\n",
       "      <td>0.915864</td>\n",
       "      <td>1.000000</td>\n",
       "      <td>0.423103</td>\n",
       "      <td>-0.147205</td>\n",
       "      <td>-0.115467</td>\n",
       "      <td>0.046341</td>\n",
       "      <td>0.136671</td>\n",
       "      <td>-0.055007</td>\n",
       "      <td>0.211815</td>\n",
       "      <td>-0.118259</td>\n",
       "      <td>-0.118388</td>\n",
       "      <td>0.011479</td>\n",
       "      <td>-0.122024</td>\n",
       "      <td>0.045526</td>\n",
       "      <td>-0.516395</td>\n",
       "      <td>-0.402981</td>\n",
       "      <td>-0.026804</td>\n",
       "    </tr>\n",
       "    <tr>\n",
       "      <th>AFH</th>\n",
       "      <td>0.749480</td>\n",
       "      <td>0.423103</td>\n",
       "      <td>1.000000</td>\n",
       "      <td>-0.183612</td>\n",
       "      <td>-0.116475</td>\n",
       "      <td>-0.045868</td>\n",
       "      <td>-0.056811</td>\n",
       "      <td>0.275714</td>\n",
       "      <td>0.139658</td>\n",
       "      <td>0.042943</td>\n",
       "      <td>0.040341</td>\n",
       "      <td>0.236322</td>\n",
       "      <td>-0.100150</td>\n",
       "      <td>-0.077826</td>\n",
       "      <td>0.188992</td>\n",
       "      <td>0.395535</td>\n",
       "      <td>0.102364</td>\n",
       "    </tr>\n",
       "    <tr>\n",
       "      <th>GP_COMPLY</th>\n",
       "      <td>-0.190087</td>\n",
       "      <td>-0.147205</td>\n",
       "      <td>-0.183612</td>\n",
       "      <td>1.000000</td>\n",
       "      <td>0.379292</td>\n",
       "      <td>0.162796</td>\n",
       "      <td>0.245260</td>\n",
       "      <td>-0.007794</td>\n",
       "      <td>-0.042005</td>\n",
       "      <td>-0.010043</td>\n",
       "      <td>-0.010049</td>\n",
       "      <td>0.030560</td>\n",
       "      <td>-0.069505</td>\n",
       "      <td>-0.052899</td>\n",
       "      <td>0.089768</td>\n",
       "      <td>-0.042161</td>\n",
       "      <td>-0.033458</td>\n",
       "    </tr>\n",
       "    <tr>\n",
       "      <th>Z_COMPLY</th>\n",
       "      <td>-0.133504</td>\n",
       "      <td>-0.115467</td>\n",
       "      <td>-0.116475</td>\n",
       "      <td>0.379292</td>\n",
       "      <td>1.000000</td>\n",
       "      <td>-0.011344</td>\n",
       "      <td>0.198241</td>\n",
       "      <td>0.014896</td>\n",
       "      <td>0.023695</td>\n",
       "      <td>-0.110013</td>\n",
       "      <td>-0.029901</td>\n",
       "      <td>-0.051489</td>\n",
       "      <td>-0.064216</td>\n",
       "      <td>-0.121249</td>\n",
       "      <td>-0.058479</td>\n",
       "      <td>-0.135398</td>\n",
       "      <td>-0.133298</td>\n",
       "    </tr>\n",
       "    <tr>\n",
       "      <th>TOD</th>\n",
       "      <td>0.014112</td>\n",
       "      <td>0.046341</td>\n",
       "      <td>-0.045868</td>\n",
       "      <td>0.162796</td>\n",
       "      <td>-0.011344</td>\n",
       "      <td>1.000000</td>\n",
       "      <td>0.385054</td>\n",
       "      <td>0.031057</td>\n",
       "      <td>-0.027951</td>\n",
       "      <td>0.137938</td>\n",
       "      <td>-0.021344</td>\n",
       "      <td>0.014664</td>\n",
       "      <td>0.161669</td>\n",
       "      <td>0.079361</td>\n",
       "      <td>0.122347</td>\n",
       "      <td>0.055092</td>\n",
       "      <td>0.112420</td>\n",
       "    </tr>\n",
       "    <tr>\n",
       "      <th>PLAN_AREA</th>\n",
       "      <td>0.074240</td>\n",
       "      <td>0.136671</td>\n",
       "      <td>-0.056811</td>\n",
       "      <td>0.245260</td>\n",
       "      <td>0.198241</td>\n",
       "      <td>0.385054</td>\n",
       "      <td>1.000000</td>\n",
       "      <td>-0.049480</td>\n",
       "      <td>0.012385</td>\n",
       "      <td>-0.118848</td>\n",
       "      <td>-0.119003</td>\n",
       "      <td>0.088676</td>\n",
       "      <td>0.048676</td>\n",
       "      <td>-0.031396</td>\n",
       "      <td>-0.132488</td>\n",
       "      <td>-0.143297</td>\n",
       "      <td>-0.363692</td>\n",
       "    </tr>\n",
       "    <tr>\n",
       "      <th>SB35</th>\n",
       "      <td>0.080754</td>\n",
       "      <td>-0.055007</td>\n",
       "      <td>0.275714</td>\n",
       "      <td>-0.007794</td>\n",
       "      <td>0.014896</td>\n",
       "      <td>0.031057</td>\n",
       "      <td>-0.049480</td>\n",
       "      <td>1.000000</td>\n",
       "      <td>0.025342</td>\n",
       "      <td>0.315135</td>\n",
       "      <td>-0.001931</td>\n",
       "      <td>0.223257</td>\n",
       "      <td>-0.053353</td>\n",
       "      <td>0.041128</td>\n",
       "      <td>0.245620</td>\n",
       "      <td>0.273482</td>\n",
       "      <td>0.130638</td>\n",
       "    </tr>\n",
       "    <tr>\n",
       "      <th>SB330</th>\n",
       "      <td>0.212638</td>\n",
       "      <td>0.211815</td>\n",
       "      <td>0.139658</td>\n",
       "      <td>-0.042005</td>\n",
       "      <td>0.023695</td>\n",
       "      <td>-0.027951</td>\n",
       "      <td>0.012385</td>\n",
       "      <td>0.025342</td>\n",
       "      <td>1.000000</td>\n",
       "      <td>-0.074330</td>\n",
       "      <td>0.064550</td>\n",
       "      <td>0.140622</td>\n",
       "      <td>0.105481</td>\n",
       "      <td>0.276940</td>\n",
       "      <td>-0.261854</td>\n",
       "      <td>-0.254280</td>\n",
       "      <td>0.100458</td>\n",
       "    </tr>\n",
       "    <tr>\n",
       "      <th>AB1763</th>\n",
       "      <td>-0.067023</td>\n",
       "      <td>-0.118259</td>\n",
       "      <td>0.042943</td>\n",
       "      <td>-0.010043</td>\n",
       "      <td>-0.110013</td>\n",
       "      <td>0.137938</td>\n",
       "      <td>-0.118848</td>\n",
       "      <td>0.315135</td>\n",
       "      <td>-0.074330</td>\n",
       "      <td>1.000000</td>\n",
       "      <td>0.295648</td>\n",
       "      <td>0.016071</td>\n",
       "      <td>0.022901</td>\n",
       "      <td>0.167771</td>\n",
       "      <td>0.229522</td>\n",
       "      <td>0.194869</td>\n",
       "      <td>0.323493</td>\n",
       "    </tr>\n",
       "    <tr>\n",
       "      <th>AB2162</th>\n",
       "      <td>-0.068294</td>\n",
       "      <td>-0.118388</td>\n",
       "      <td>0.040341</td>\n",
       "      <td>-0.010049</td>\n",
       "      <td>-0.029901</td>\n",
       "      <td>-0.021344</td>\n",
       "      <td>-0.119003</td>\n",
       "      <td>-0.001931</td>\n",
       "      <td>0.064550</td>\n",
       "      <td>0.295648</td>\n",
       "      <td>1.000000</td>\n",
       "      <td>0.016019</td>\n",
       "      <td>0.091858</td>\n",
       "      <td>0.168241</td>\n",
       "      <td>0.229558</td>\n",
       "      <td>0.194869</td>\n",
       "      <td>0.046177</td>\n",
       "    </tr>\n",
       "    <tr>\n",
       "      <th>AB2345</th>\n",
       "      <td>0.111368</td>\n",
       "      <td>0.011479</td>\n",
       "      <td>0.236322</td>\n",
       "      <td>0.030560</td>\n",
       "      <td>-0.051489</td>\n",
       "      <td>0.014664</td>\n",
       "      <td>0.088676</td>\n",
       "      <td>0.223257</td>\n",
       "      <td>0.140622</td>\n",
       "      <td>0.016071</td>\n",
       "      <td>0.016019</td>\n",
       "      <td>1.000000</td>\n",
       "      <td>0.058580</td>\n",
       "      <td>0.196597</td>\n",
       "      <td>0.036424</td>\n",
       "      <td>0.074449</td>\n",
       "      <td>-0.132398</td>\n",
       "    </tr>\n",
       "    <tr>\n",
       "      <th>AB2372</th>\n",
       "      <td>-0.128308</td>\n",
       "      <td>-0.122024</td>\n",
       "      <td>-0.100150</td>\n",
       "      <td>-0.069505</td>\n",
       "      <td>-0.064216</td>\n",
       "      <td>0.161669</td>\n",
       "      <td>0.048676</td>\n",
       "      <td>-0.053353</td>\n",
       "      <td>0.105481</td>\n",
       "      <td>0.022901</td>\n",
       "      <td>0.091858</td>\n",
       "      <td>0.058580</td>\n",
       "      <td>1.000000</td>\n",
       "      <td>0.076944</td>\n",
       "      <td>-0.000185</td>\n",
       "      <td>-0.082808</td>\n",
       "      <td>-0.033274</td>\n",
       "    </tr>\n",
       "    <tr>\n",
       "      <th>AB3194</th>\n",
       "      <td>-0.002959</td>\n",
       "      <td>0.045526</td>\n",
       "      <td>-0.077826</td>\n",
       "      <td>-0.052899</td>\n",
       "      <td>-0.121249</td>\n",
       "      <td>0.079361</td>\n",
       "      <td>-0.031396</td>\n",
       "      <td>0.041128</td>\n",
       "      <td>0.276940</td>\n",
       "      <td>0.167771</td>\n",
       "      <td>0.168241</td>\n",
       "      <td>0.196597</td>\n",
       "      <td>0.076944</td>\n",
       "      <td>1.000000</td>\n",
       "      <td>-0.102969</td>\n",
       "      <td>-0.136505</td>\n",
       "      <td>0.073837</td>\n",
       "    </tr>\n",
       "    <tr>\n",
       "      <th>All_AFH</th>\n",
       "      <td>-0.292609</td>\n",
       "      <td>-0.516395</td>\n",
       "      <td>0.188992</td>\n",
       "      <td>0.089768</td>\n",
       "      <td>-0.058479</td>\n",
       "      <td>0.122347</td>\n",
       "      <td>-0.132488</td>\n",
       "      <td>0.245620</td>\n",
       "      <td>-0.261854</td>\n",
       "      <td>0.229522</td>\n",
       "      <td>0.229558</td>\n",
       "      <td>0.036424</td>\n",
       "      <td>-0.000185</td>\n",
       "      <td>-0.102969</td>\n",
       "      <td>1.000000</td>\n",
       "      <td>0.849349</td>\n",
       "      <td>0.123087</td>\n",
       "    </tr>\n",
       "    <tr>\n",
       "      <th>Part_AFH</th>\n",
       "      <td>-0.116271</td>\n",
       "      <td>-0.402981</td>\n",
       "      <td>0.395535</td>\n",
       "      <td>-0.042161</td>\n",
       "      <td>-0.135398</td>\n",
       "      <td>0.055092</td>\n",
       "      <td>-0.143297</td>\n",
       "      <td>0.273482</td>\n",
       "      <td>-0.254280</td>\n",
       "      <td>0.194869</td>\n",
       "      <td>0.194869</td>\n",
       "      <td>0.074449</td>\n",
       "      <td>-0.082808</td>\n",
       "      <td>-0.136505</td>\n",
       "      <td>0.849349</td>\n",
       "      <td>1.000000</td>\n",
       "      <td>0.125577</td>\n",
       "    </tr>\n",
       "    <tr>\n",
       "      <th>Intercept</th>\n",
       "      <td>0.023137</td>\n",
       "      <td>-0.026804</td>\n",
       "      <td>0.102364</td>\n",
       "      <td>-0.033458</td>\n",
       "      <td>-0.133298</td>\n",
       "      <td>0.112420</td>\n",
       "      <td>-0.363692</td>\n",
       "      <td>0.130638</td>\n",
       "      <td>0.100458</td>\n",
       "      <td>0.323493</td>\n",
       "      <td>0.046177</td>\n",
       "      <td>-0.132398</td>\n",
       "      <td>-0.033274</td>\n",
       "      <td>0.073837</td>\n",
       "      <td>0.123087</td>\n",
       "      <td>0.125577</td>\n",
       "      <td>1.000000</td>\n",
       "    </tr>\n",
       "  </tbody>\n",
       "</table>\n",
       "</div>"
      ],
      "text/plain": [
       "                 DU       MKT       AFH  GP_COMPLY  Z_COMPLY       TOD  \\\n",
       "DU         1.000000  0.915864  0.749480  -0.190087 -0.133504  0.014112   \n",
       "MKT        0.915864  1.000000  0.423103  -0.147205 -0.115467  0.046341   \n",
       "AFH        0.749480  0.423103  1.000000  -0.183612 -0.116475 -0.045868   \n",
       "GP_COMPLY -0.190087 -0.147205 -0.183612   1.000000  0.379292  0.162796   \n",
       "Z_COMPLY  -0.133504 -0.115467 -0.116475   0.379292  1.000000 -0.011344   \n",
       "TOD        0.014112  0.046341 -0.045868   0.162796 -0.011344  1.000000   \n",
       "PLAN_AREA  0.074240  0.136671 -0.056811   0.245260  0.198241  0.385054   \n",
       "SB35       0.080754 -0.055007  0.275714  -0.007794  0.014896  0.031057   \n",
       "SB330      0.212638  0.211815  0.139658  -0.042005  0.023695 -0.027951   \n",
       "AB1763    -0.067023 -0.118259  0.042943  -0.010043 -0.110013  0.137938   \n",
       "AB2162    -0.068294 -0.118388  0.040341  -0.010049 -0.029901 -0.021344   \n",
       "AB2345     0.111368  0.011479  0.236322   0.030560 -0.051489  0.014664   \n",
       "AB2372    -0.128308 -0.122024 -0.100150  -0.069505 -0.064216  0.161669   \n",
       "AB3194    -0.002959  0.045526 -0.077826  -0.052899 -0.121249  0.079361   \n",
       "All_AFH   -0.292609 -0.516395  0.188992   0.089768 -0.058479  0.122347   \n",
       "Part_AFH  -0.116271 -0.402981  0.395535  -0.042161 -0.135398  0.055092   \n",
       "Intercept  0.023137 -0.026804  0.102364  -0.033458 -0.133298  0.112420   \n",
       "\n",
       "           PLAN_AREA      SB35     SB330    AB1763    AB2162    AB2345  \\\n",
       "DU          0.074240  0.080754  0.212638 -0.067023 -0.068294  0.111368   \n",
       "MKT         0.136671 -0.055007  0.211815 -0.118259 -0.118388  0.011479   \n",
       "AFH        -0.056811  0.275714  0.139658  0.042943  0.040341  0.236322   \n",
       "GP_COMPLY   0.245260 -0.007794 -0.042005 -0.010043 -0.010049  0.030560   \n",
       "Z_COMPLY    0.198241  0.014896  0.023695 -0.110013 -0.029901 -0.051489   \n",
       "TOD         0.385054  0.031057 -0.027951  0.137938 -0.021344  0.014664   \n",
       "PLAN_AREA   1.000000 -0.049480  0.012385 -0.118848 -0.119003  0.088676   \n",
       "SB35       -0.049480  1.000000  0.025342  0.315135 -0.001931  0.223257   \n",
       "SB330       0.012385  0.025342  1.000000 -0.074330  0.064550  0.140622   \n",
       "AB1763     -0.118848  0.315135 -0.074330  1.000000  0.295648  0.016071   \n",
       "AB2162     -0.119003 -0.001931  0.064550  0.295648  1.000000  0.016019   \n",
       "AB2345      0.088676  0.223257  0.140622  0.016071  0.016019  1.000000   \n",
       "AB2372      0.048676 -0.053353  0.105481  0.022901  0.091858  0.058580   \n",
       "AB3194     -0.031396  0.041128  0.276940  0.167771  0.168241  0.196597   \n",
       "All_AFH    -0.132488  0.245620 -0.261854  0.229522  0.229558  0.036424   \n",
       "Part_AFH   -0.143297  0.273482 -0.254280  0.194869  0.194869  0.074449   \n",
       "Intercept  -0.363692  0.130638  0.100458  0.323493  0.046177 -0.132398   \n",
       "\n",
       "             AB2372    AB3194   All_AFH  Part_AFH  Intercept  \n",
       "DU        -0.128308 -0.002959 -0.292609 -0.116271   0.023137  \n",
       "MKT       -0.122024  0.045526 -0.516395 -0.402981  -0.026804  \n",
       "AFH       -0.100150 -0.077826  0.188992  0.395535   0.102364  \n",
       "GP_COMPLY -0.069505 -0.052899  0.089768 -0.042161  -0.033458  \n",
       "Z_COMPLY  -0.064216 -0.121249 -0.058479 -0.135398  -0.133298  \n",
       "TOD        0.161669  0.079361  0.122347  0.055092   0.112420  \n",
       "PLAN_AREA  0.048676 -0.031396 -0.132488 -0.143297  -0.363692  \n",
       "SB35      -0.053353  0.041128  0.245620  0.273482   0.130638  \n",
       "SB330      0.105481  0.276940 -0.261854 -0.254280   0.100458  \n",
       "AB1763     0.022901  0.167771  0.229522  0.194869   0.323493  \n",
       "AB2162     0.091858  0.168241  0.229558  0.194869   0.046177  \n",
       "AB2345     0.058580  0.196597  0.036424  0.074449  -0.132398  \n",
       "AB2372     1.000000  0.076944 -0.000185 -0.082808  -0.033274  \n",
       "AB3194     0.076944  1.000000 -0.102969 -0.136505   0.073837  \n",
       "All_AFH   -0.000185 -0.102969  1.000000  0.849349   0.123087  \n",
       "Part_AFH  -0.082808 -0.136505  0.849349  1.000000   0.125577  \n",
       "Intercept -0.033274  0.073837  0.123087  0.125577   1.000000  "
      ]
     },
     "execution_count": 27,
     "metadata": {},
     "output_type": "execute_result"
    }
   ],
   "source": [
    "# Check correlations\n",
    "X.corr()"
   ]
  },
  {
   "cell_type": "code",
   "execution_count": 28,
   "metadata": {},
   "outputs": [],
   "source": [
    "logistic_ml   = sm.Logit(y, X)"
   ]
  },
  {
   "cell_type": "code",
   "execution_count": 29,
   "metadata": {},
   "outputs": [
    {
     "name": "stdout",
     "output_type": "stream",
     "text": [
      "Optimization terminated successfully.\n",
      "         Current function value: 0.328838\n",
      "         Iterations 13\n"
     ]
    },
    {
     "data": {
      "text/html": [
       "<table class=\"simpletable\">\n",
       "<tr>\n",
       "        <td>Model:</td>              <td>Logit</td>      <td>Pseudo R-squared:</td>    <td>0.381</td>  \n",
       "</tr>\n",
       "<tr>\n",
       "  <td>Dependent Variable:</td>         <td>y</td>              <td>AIC:</td>         <td>107.6597</td> \n",
       "</tr>\n",
       "<tr>\n",
       "         <td>Date:</td>        <td>2021-09-16 18:10</td>       <td>BIC:</td>         <td>153.8742</td> \n",
       "</tr>\n",
       "<tr>\n",
       "   <td>No. Observations:</td>         <td>112</td>        <td>Log-Likelihood:</td>    <td>-36.830</td> \n",
       "</tr>\n",
       "<tr>\n",
       "       <td>Df Model:</td>             <td>16</td>            <td>LL-Null:</td>        <td>-59.466</td> \n",
       "</tr>\n",
       "<tr>\n",
       "     <td>Df Residuals:</td>           <td>95</td>          <td>LLR p-value:</td>    <td>0.00012606</td>\n",
       "</tr>\n",
       "<tr>\n",
       "      <td>Converged:</td>           <td>1.0000</td>           <td>Scale:</td>         <td>1.0000</td>  \n",
       "</tr>\n",
       "<tr>\n",
       "    <td>No. Iterations:</td>        <td>13.0000</td>             <td></td>               <td></td>     \n",
       "</tr>\n",
       "</table>\n",
       "<table class=\"simpletable\">\n",
       "<tr>\n",
       "      <td></td>        <th>Coef.</th>   <th>Std.Err.</th>     <th>z</th>     <th>P>|z|</th>  <th>[0.025</th>    <th>0.975]</th>  \n",
       "</tr>\n",
       "<tr>\n",
       "  <th>DU</th>        <td>-12.9053</td>   <td>92.3847</td>  <td>-0.1397</td> <td>0.8889</td> <td>-193.9759</td> <td>168.1654</td> \n",
       "</tr>\n",
       "<tr>\n",
       "  <th>MKT</th>        <td>9.7856</td>    <td>66.3962</td>  <td>0.1474</td>  <td>0.8828</td> <td>-120.3486</td> <td>139.9198</td> \n",
       "</tr>\n",
       "<tr>\n",
       "  <th>AFH</th>        <td>5.5715</td>    <td>41.1063</td>  <td>0.1355</td>  <td>0.8922</td> <td>-74.9954</td>   <td>86.1384</td> \n",
       "</tr>\n",
       "<tr>\n",
       "  <th>GP_COMPLY</th>  <td>0.5096</td>    <td>1.0685</td>   <td>0.4769</td>  <td>0.6334</td>  <td>-1.5847</td>   <td>2.6039</td>  \n",
       "</tr>\n",
       "<tr>\n",
       "  <th>Z_COMPLY</th>   <td>0.5634</td>    <td>0.7045</td>   <td>0.7997</td>  <td>0.4239</td>  <td>-0.8174</td>   <td>1.9443</td>  \n",
       "</tr>\n",
       "<tr>\n",
       "  <th>TOD</th>        <td>-0.7018</td>   <td>0.7761</td>   <td>-0.9043</td> <td>0.3658</td>  <td>-2.2229</td>   <td>0.8193</td>  \n",
       "</tr>\n",
       "<tr>\n",
       "  <th>PLAN_AREA</th>  <td>-2.0213</td>   <td>0.7418</td>   <td>-2.7248</td> <td>0.0064</td>  <td>-3.4752</td>   <td>-0.5674</td> \n",
       "</tr>\n",
       "<tr>\n",
       "  <th>SB35</th>       <td>2.6125</td>    <td>0.8308</td>   <td>3.1444</td>  <td>0.0017</td>  <td>0.9841</td>    <td>4.2409</td>  \n",
       "</tr>\n",
       "<tr>\n",
       "  <th>SB330</th>      <td>2.4416</td>    <td>1.0856</td>   <td>2.2491</td>  <td>0.0245</td>  <td>0.3139</td>    <td>4.5693</td>  \n",
       "</tr>\n",
       "<tr>\n",
       "  <th>AB1763</th>     <td>0.1787</td>    <td>1.2162</td>   <td>0.1469</td>  <td>0.8832</td>  <td>-2.2049</td>   <td>2.5624</td>  \n",
       "</tr>\n",
       "<tr>\n",
       "  <th>AB2162</th>     <td>-2.3208</td>   <td>1.4702</td>   <td>-1.5786</td> <td>0.1144</td>  <td>-5.2023</td>   <td>0.5607</td>  \n",
       "</tr>\n",
       "<tr>\n",
       "  <th>AB2345</th>     <td>1.2624</td>    <td>0.8145</td>   <td>1.5500</td>  <td>0.1212</td>  <td>-0.3339</td>   <td>2.8587</td>  \n",
       "</tr>\n",
       "<tr>\n",
       "  <th>AB2372</th>    <td>1707.0295</td> <td>1195.0476</td> <td>1.4284</td>  <td>0.1532</td> <td>-635.2209</td> <td>4049.2798</td>\n",
       "</tr>\n",
       "<tr>\n",
       "  <th>AB3194</th>     <td>1.6008</td>    <td>1.7978</td>   <td>0.8904</td>  <td>0.3732</td>  <td>-1.9227</td>   <td>5.1243</td>  \n",
       "</tr>\n",
       "<tr>\n",
       "  <th>All_AFH</th>    <td>3.5699</td>    <td>3.5813</td>   <td>0.9968</td>  <td>0.3189</td>  <td>-3.4494</td>   <td>10.5891</td> \n",
       "</tr>\n",
       "<tr>\n",
       "  <th>Part_AFH</th>   <td>-1.8495</td>   <td>3.8189</td>   <td>-0.4843</td> <td>0.6282</td>  <td>-9.3344</td>   <td>5.6355</td>  \n",
       "</tr>\n",
       "<tr>\n",
       "  <th>Intercept</th>  <td>-3.7280</td>   <td>1.6914</td>   <td>-2.2041</td> <td>0.0275</td>  <td>-7.0430</td>   <td>-0.4129</td> \n",
       "</tr>\n",
       "</table>"
      ],
      "text/plain": [
       "<class 'statsmodels.iolib.summary2.Summary'>\n",
       "\"\"\"\n",
       "                         Results: Logit\n",
       "=================================================================\n",
       "Model:              Logit            Pseudo R-squared: 0.381     \n",
       "Dependent Variable: y                AIC:              107.6597  \n",
       "Date:               2021-09-16 18:10 BIC:              153.8742  \n",
       "No. Observations:   112              Log-Likelihood:   -36.830   \n",
       "Df Model:           16               LL-Null:          -59.466   \n",
       "Df Residuals:       95               LLR p-value:      0.00012606\n",
       "Converged:          1.0000           Scale:            1.0000    \n",
       "No. Iterations:     13.0000                                      \n",
       "-----------------------------------------------------------------\n",
       "             Coef.    Std.Err.    z    P>|z|    [0.025    0.975] \n",
       "-----------------------------------------------------------------\n",
       "DU          -12.9053   92.3847 -0.1397 0.8889 -193.9759  168.1654\n",
       "MKT           9.7856   66.3962  0.1474 0.8828 -120.3486  139.9198\n",
       "AFH           5.5715   41.1063  0.1355 0.8922  -74.9954   86.1384\n",
       "GP_COMPLY     0.5096    1.0685  0.4769 0.6334   -1.5847    2.6039\n",
       "Z_COMPLY      0.5634    0.7045  0.7997 0.4239   -0.8174    1.9443\n",
       "TOD          -0.7018    0.7761 -0.9043 0.3658   -2.2229    0.8193\n",
       "PLAN_AREA    -2.0213    0.7418 -2.7248 0.0064   -3.4752   -0.5674\n",
       "SB35          2.6125    0.8308  3.1444 0.0017    0.9841    4.2409\n",
       "SB330         2.4416    1.0856  2.2491 0.0245    0.3139    4.5693\n",
       "AB1763        0.1787    1.2162  0.1469 0.8832   -2.2049    2.5624\n",
       "AB2162       -2.3208    1.4702 -1.5786 0.1144   -5.2023    0.5607\n",
       "AB2345        1.2624    0.8145  1.5500 0.1212   -0.3339    2.8587\n",
       "AB2372     1707.0295 1195.0476  1.4284 0.1532 -635.2209 4049.2798\n",
       "AB3194        1.6008    1.7978  0.8904 0.3732   -1.9227    5.1243\n",
       "All_AFH       3.5699    3.5813  0.9968 0.3189   -3.4494   10.5891\n",
       "Part_AFH     -1.8495    3.8189 -0.4843 0.6282   -9.3344    5.6355\n",
       "Intercept    -3.7280    1.6914 -2.2041 0.0275   -7.0430   -0.4129\n",
       "=================================================================\n",
       "\n",
       "\"\"\""
      ]
     },
     "execution_count": 29,
     "metadata": {},
     "output_type": "execute_result"
    }
   ],
   "source": [
    "logistic_coef = logistic_ml.fit()\n",
    "logistic_coef.summary2()"
   ]
  },
  {
   "cell_type": "markdown",
   "metadata": {},
   "source": [
    "### 7. Calculate Odds Ratio (OR) for each input feature for unit change=1"
   ]
  },
  {
   "cell_type": "code",
   "execution_count": 30,
   "metadata": {},
   "outputs": [
    {
     "name": "stderr",
     "output_type": "stream",
     "text": [
      "/opt/anaconda3/lib/python3.8/site-packages/pandas/core/arraylike.py:358: RuntimeWarning: overflow encountered in exp\n",
      "  result = getattr(ufunc, method)(*inputs, **kwargs)\n"
     ]
    },
    {
     "data": {
      "text/plain": [
       "DU           2.484955e-06\n",
       "MKT          1.777603e+04\n",
       "AFH          2.628303e+02\n",
       "GP_COMPLY    1.664661e+00\n",
       "Z_COMPLY     1.756689e+00\n",
       "TOD          4.956880e-01\n",
       "PLAN_AREA    1.324894e-01\n",
       "SB35         1.363271e+01\n",
       "SB330        1.149164e+01\n",
       "AB1763       1.195666e+00\n",
       "AB2162       9.819574e-02\n",
       "AB2345       3.533869e+00\n",
       "AB2372                inf\n",
       "AB3194       4.957025e+00\n",
       "All_AFH      3.551240e+01\n",
       "Part_AFH     1.573214e-01\n",
       "Intercept    2.404176e-02\n",
       "dtype: float64"
      ]
     },
     "execution_count": 30,
     "metadata": {},
     "output_type": "execute_result"
    }
   ],
   "source": [
    "np.exp(logistic_coef.params)"
   ]
  },
  {
   "cell_type": "markdown",
   "metadata": {},
   "source": [
    "### 8. Choose input features based on 90% confidence level (P < 0.1); Eliminate 'No Impact' Features; Apply Domain"
   ]
  },
  {
   "cell_type": "markdown",
   "metadata": {},
   "source": [
    "Redo classification via LogisticRegression in sckitlearn with same parameter set. "
   ]
  },
  {
   "cell_type": "markdown",
   "metadata": {},
   "source": [
    "Selected Conf. Lvl based on domain laws significant for streamlining. "
   ]
  },
  {
   "cell_type": "markdown",
   "metadata": {},
   "source": [
    "Upon visual inspection; the following are 4 features are <b>statistically significant</b>. One feature is noises AB2372. One feature is a density bonus law which are commonly used for affordable housing developments AB 2345, but should not affect streamlining; however, happen to coincide with streamline eligible projects. One feature is a streamlining law AB2162, that based on training data seems to have not been included, but we will include due to having domain knowledge."
   ]
  },
  {
   "cell_type": "markdown",
   "metadata": {},
   "source": [
    "The final list of features is:\n",
    "* PLAN_AREA\n",
    "* SB35\n",
    "* SB330\n",
    "* AB2162\n",
    "* AB2345"
   ]
  },
  {
   "cell_type": "code",
   "execution_count": 31,
   "metadata": {},
   "outputs": [
    {
     "data": {
      "text/html": [
       "<div>\n",
       "<style scoped>\n",
       "    .dataframe tbody tr th:only-of-type {\n",
       "        vertical-align: middle;\n",
       "    }\n",
       "\n",
       "    .dataframe tbody tr th {\n",
       "        vertical-align: top;\n",
       "    }\n",
       "\n",
       "    .dataframe thead th {\n",
       "        text-align: right;\n",
       "    }\n",
       "</style>\n",
       "<table border=\"1\" class=\"dataframe\">\n",
       "  <thead>\n",
       "    <tr style=\"text-align: right;\">\n",
       "      <th></th>\n",
       "      <th>PLAN_AREA</th>\n",
       "      <th>SB35</th>\n",
       "      <th>SB330</th>\n",
       "      <th>AB2162</th>\n",
       "      <th>AB2345</th>\n",
       "      <th>Intercept</th>\n",
       "    </tr>\n",
       "  </thead>\n",
       "  <tbody>\n",
       "    <tr>\n",
       "      <th>0</th>\n",
       "      <td>0.000374</td>\n",
       "      <td>1.000595</td>\n",
       "      <td>0.000088</td>\n",
       "      <td>0.000127</td>\n",
       "      <td>0.000845</td>\n",
       "      <td>1.000806</td>\n",
       "    </tr>\n",
       "    <tr>\n",
       "      <th>1</th>\n",
       "      <td>1.000934</td>\n",
       "      <td>0.000650</td>\n",
       "      <td>0.000750</td>\n",
       "      <td>0.000269</td>\n",
       "      <td>0.000188</td>\n",
       "      <td>1.000617</td>\n",
       "    </tr>\n",
       "    <tr>\n",
       "      <th>2</th>\n",
       "      <td>1.000233</td>\n",
       "      <td>1.000333</td>\n",
       "      <td>0.000048</td>\n",
       "      <td>0.000582</td>\n",
       "      <td>0.000107</td>\n",
       "      <td>1.000162</td>\n",
       "    </tr>\n",
       "    <tr>\n",
       "      <th>3</th>\n",
       "      <td>1.000143</td>\n",
       "      <td>0.000710</td>\n",
       "      <td>1.000941</td>\n",
       "      <td>0.000518</td>\n",
       "      <td>0.000183</td>\n",
       "      <td>1.000349</td>\n",
       "    </tr>\n",
       "    <tr>\n",
       "      <th>4</th>\n",
       "      <td>0.000626</td>\n",
       "      <td>0.000106</td>\n",
       "      <td>1.000611</td>\n",
       "      <td>0.000324</td>\n",
       "      <td>0.000978</td>\n",
       "      <td>1.000084</td>\n",
       "    </tr>\n",
       "  </tbody>\n",
       "</table>\n",
       "</div>"
      ],
      "text/plain": [
       "   PLAN_AREA      SB35     SB330    AB2162    AB2345  Intercept\n",
       "0   0.000374  1.000595  0.000088  0.000127  0.000845   1.000806\n",
       "1   1.000934  0.000650  0.000750  0.000269  0.000188   1.000617\n",
       "2   1.000233  1.000333  0.000048  0.000582  0.000107   1.000162\n",
       "3   1.000143  0.000710  1.000941  0.000518  0.000183   1.000349\n",
       "4   0.000626  0.000106  1.000611  0.000324  0.000978   1.000084"
      ]
     },
     "execution_count": 31,
     "metadata": {},
     "output_type": "execute_result"
    }
   ],
   "source": [
    "# X = Input feature (features: Income, Family, Education, CDAccount, CreditCard)\n",
    "X = X.drop(['DU','MKT','AFH','GP_COMPLY','Z_COMPLY','TOD','AB1763','AB2372','AB3194','All_AFH','Part_AFH'], axis=1)\n",
    "X.head()"
   ]
  },
  {
   "cell_type": "code",
   "execution_count": 32,
   "metadata": {},
   "outputs": [],
   "source": [
    "X_train, X_test, y_train, y_test = train_test_split(X,y,test_size=0.2)"
   ]
  },
  {
   "cell_type": "code",
   "execution_count": 33,
   "metadata": {},
   "outputs": [
    {
     "data": {
      "text/plain": [
       "LogisticRegression(random_state=1, solver='liblinear')"
      ]
     },
     "execution_count": 33,
     "metadata": {},
     "output_type": "execute_result"
    }
   ],
   "source": [
    "logistic = LogisticRegression(solver='liblinear', random_state=1) # good optimizer for smaller datasets\n",
    "# logistic = LogisticRegression() \n",
    "logistic.fit(X_train, y_train)"
   ]
  },
  {
   "cell_type": "code",
   "execution_count": 34,
   "metadata": {},
   "outputs": [],
   "source": [
    "y_pred = logistic.predict(X_test)"
   ]
  },
  {
   "cell_type": "code",
   "execution_count": 35,
   "metadata": {},
   "outputs": [
    {
     "name": "stdout",
     "output_type": "stream",
     "text": [
      "Model Accuracy Score: 0.8260869565217391\n"
     ]
    }
   ],
   "source": [
    "print(f'Model Accuracy Score: {accuracy_score(y_test,y_pred)}')"
   ]
  },
  {
   "cell_type": "code",
   "execution_count": 36,
   "metadata": {},
   "outputs": [
    {
     "name": "stdout",
     "output_type": "stream",
     "text": [
      "              precision    recall  f1-score   support\n",
      "\n",
      "           0       0.86      0.95      0.90        19\n",
      "           1       0.50      0.25      0.33         4\n",
      "\n",
      "    accuracy                           0.83        23\n",
      "   macro avg       0.68      0.60      0.62        23\n",
      "weighted avg       0.80      0.83      0.80        23\n",
      "\n"
     ]
    }
   ],
   "source": [
    "print(classification_report(y_test, y_pred))"
   ]
  },
  {
   "cell_type": "code",
   "execution_count": 37,
   "metadata": {},
   "outputs": [
    {
     "data": {
      "text/html": [
       "<div>\n",
       "<style scoped>\n",
       "    .dataframe tbody tr th:only-of-type {\n",
       "        vertical-align: middle;\n",
       "    }\n",
       "\n",
       "    .dataframe tbody tr th {\n",
       "        vertical-align: top;\n",
       "    }\n",
       "\n",
       "    .dataframe thead th {\n",
       "        text-align: right;\n",
       "    }\n",
       "</style>\n",
       "<table border=\"1\" class=\"dataframe\">\n",
       "  <thead>\n",
       "    <tr style=\"text-align: right;\">\n",
       "      <th></th>\n",
       "      <th>Predict[0]</th>\n",
       "      <th>Predict[1]</th>\n",
       "    </tr>\n",
       "  </thead>\n",
       "  <tbody>\n",
       "    <tr>\n",
       "      <th>True[0]</th>\n",
       "      <td>18</td>\n",
       "      <td>1</td>\n",
       "    </tr>\n",
       "    <tr>\n",
       "      <th>True[1]</th>\n",
       "      <td>3</td>\n",
       "      <td>1</td>\n",
       "    </tr>\n",
       "  </tbody>\n",
       "</table>\n",
       "</div>"
      ],
      "text/plain": [
       "         Predict[0]  Predict[1]\n",
       "True[0]          18           1\n",
       "True[1]           3           1"
      ]
     },
     "execution_count": 37,
     "metadata": {},
     "output_type": "execute_result"
    }
   ],
   "source": [
    "confmat = pd.DataFrame(confusion_matrix(y_test, y_pred),\n",
    "                      index  =['True[0]','True[1]'],\n",
    "                      columns=['Predict[0]','Predict[1]'])\n",
    "confmat"
   ]
  },
  {
   "cell_type": "code",
   "execution_count": 38,
   "metadata": {},
   "outputs": [
    {
     "data": {
      "image/png": "[encoded data removed]",
      "text/plain": [
       "<Figure size 432x288 with 1 Axes>"
      ]
     },
     "metadata": {
      "needs_background": "light"
     },
     "output_type": "display_data"
    }
   ],
   "source": [
    "skplt.metrics.plot_roc(y_test, logistic.predict_proba(X_test), plot_micro=False)\n",
    "plt.show()"
   ]
  },
  {
   "cell_type": "code",
   "execution_count": 39,
   "metadata": {},
   "outputs": [
    {
     "data": {
      "image/png": "[encoded data removed]",
      "text/plain": [
       "<Figure size 432x288 with 1 Axes>"
      ]
     },
     "metadata": {
      "needs_background": "light"
     },
     "output_type": "display_data"
    }
   ],
   "source": [
    "skplt.metrics.plot_cumulative_gain(y_test, logistic.predict_proba(X_test))\n",
    "plt.show()"
   ]
  },
  {
   "cell_type": "code",
   "execution_count": 40,
   "metadata": {},
   "outputs": [],
   "source": [
    "logistic_ml   = sm.Logit(y_train, X_train)"
   ]
  },
  {
   "cell_type": "code",
   "execution_count": 41,
   "metadata": {},
   "outputs": [
    {
     "name": "stdout",
     "output_type": "stream",
     "text": [
      "Optimization terminated successfully.\n",
      "         Current function value: 0.375878\n",
      "         Iterations 7\n"
     ]
    },
    {
     "data": {
      "text/html": [
       "<table class=\"simpletable\">\n",
       "<tr>\n",
       "        <td>Model:</td>              <td>Logit</td>      <td>Pseudo R-squared:</td>    <td>0.312</td>  \n",
       "</tr>\n",
       "<tr>\n",
       "  <td>Dependent Variable:</td>         <td>y</td>              <td>AIC:</td>          <td>78.9062</td> \n",
       "</tr>\n",
       "<tr>\n",
       "         <td>Date:</td>        <td>2021-09-16 18:10</td>       <td>BIC:</td>          <td>93.8380</td> \n",
       "</tr>\n",
       "<tr>\n",
       "   <td>No. Observations:</td>         <td>89</td>         <td>Log-Likelihood:</td>    <td>-33.453</td> \n",
       "</tr>\n",
       "<tr>\n",
       "       <td>Df Model:</td>              <td>5</td>            <td>LL-Null:</td>        <td>-48.627</td> \n",
       "</tr>\n",
       "<tr>\n",
       "     <td>Df Residuals:</td>           <td>83</td>          <td>LLR p-value:</td>    <td>1.2595e-05</td>\n",
       "</tr>\n",
       "<tr>\n",
       "      <td>Converged:</td>           <td>1.0000</td>           <td>Scale:</td>         <td>1.0000</td>  \n",
       "</tr>\n",
       "<tr>\n",
       "    <td>No. Iterations:</td>        <td>7.0000</td>              <td></td>               <td></td>     \n",
       "</tr>\n",
       "</table>\n",
       "<table class=\"simpletable\">\n",
       "<tr>\n",
       "      <td></td>       <th>Coef.</th>  <th>Std.Err.</th>    <th>z</th>     <th>P>|z|</th> <th>[0.025</th>  <th>0.975]</th> \n",
       "</tr>\n",
       "<tr>\n",
       "  <th>PLAN_AREA</th> <td>-1.8483</td>  <td>0.6934</td>  <td>-2.6656</td> <td>0.0077</td> <td>-3.2073</td> <td>-0.4893</td>\n",
       "</tr>\n",
       "<tr>\n",
       "  <th>SB35</th>      <td>2.6313</td>   <td>0.7290</td>  <td>3.6096</td>  <td>0.0003</td> <td>1.2025</td>  <td>4.0600</td> \n",
       "</tr>\n",
       "<tr>\n",
       "  <th>SB330</th>     <td>2.4154</td>   <td>1.1065</td>  <td>2.1830</td>  <td>0.0290</td> <td>0.2468</td>  <td>4.5840</td> \n",
       "</tr>\n",
       "<tr>\n",
       "  <th>AB2162</th>    <td>-1.3703</td>  <td>1.3257</td>  <td>-1.0337</td> <td>0.3013</td> <td>-3.9686</td> <td>1.2279</td> \n",
       "</tr>\n",
       "<tr>\n",
       "  <th>AB2345</th>    <td>1.1104</td>   <td>0.8425</td>  <td>1.3180</td>  <td>0.1875</td> <td>-0.5408</td> <td>2.7615</td> \n",
       "</tr>\n",
       "<tr>\n",
       "  <th>Intercept</th> <td>-1.2485</td>  <td>0.4635</td>  <td>-2.6939</td> <td>0.0071</td> <td>-2.1568</td> <td>-0.3401</td>\n",
       "</tr>\n",
       "</table>"
      ],
      "text/plain": [
       "<class 'statsmodels.iolib.summary2.Summary'>\n",
       "\"\"\"\n",
       "                         Results: Logit\n",
       "=================================================================\n",
       "Model:              Logit            Pseudo R-squared: 0.312     \n",
       "Dependent Variable: y                AIC:              78.9062   \n",
       "Date:               2021-09-16 18:10 BIC:              93.8380   \n",
       "No. Observations:   89               Log-Likelihood:   -33.453   \n",
       "Df Model:           5                LL-Null:          -48.627   \n",
       "Df Residuals:       83               LLR p-value:      1.2595e-05\n",
       "Converged:          1.0000           Scale:            1.0000    \n",
       "No. Iterations:     7.0000                                       \n",
       "------------------------------------------------------------------\n",
       "               Coef.   Std.Err.     z     P>|z|    [0.025   0.975]\n",
       "------------------------------------------------------------------\n",
       "PLAN_AREA     -1.8483    0.6934  -2.6656  0.0077  -3.2073  -0.4893\n",
       "SB35           2.6313    0.7290   3.6096  0.0003   1.2025   4.0600\n",
       "SB330          2.4154    1.1065   2.1830  0.0290   0.2468   4.5840\n",
       "AB2162        -1.3703    1.3257  -1.0337  0.3013  -3.9686   1.2279\n",
       "AB2345         1.1104    0.8425   1.3180  0.1875  -0.5408   2.7615\n",
       "Intercept     -1.2485    0.4635  -2.6939  0.0071  -2.1568  -0.3401\n",
       "=================================================================\n",
       "\n",
       "\"\"\""
      ]
     },
     "execution_count": 41,
     "metadata": {},
     "output_type": "execute_result"
    }
   ],
   "source": [
    "logistic_coef = logistic_ml.fit()\n",
    "logistic_coef.summary2()"
   ]
  },
  {
   "cell_type": "code",
   "execution_count": 42,
   "metadata": {},
   "outputs": [
    {
     "data": {
      "text/plain": [
       "PLAN_AREA     0.157508\n",
       "SB35         13.891214\n",
       "SB330        11.194204\n",
       "AB2162        0.254022\n",
       "AB2345        3.035436\n",
       "Intercept     0.286939\n",
       "dtype: float64"
      ]
     },
     "execution_count": 42,
     "metadata": {},
     "output_type": "execute_result"
    }
   ],
   "source": [
    "np.exp(logistic_coef.params)"
   ]
  },
  {
   "cell_type": "markdown",
   "metadata": {},
   "source": [
    "# Review"
   ]
  },
  {
   "cell_type": "markdown",
   "metadata": {},
   "source": [
    "Odds Ratio of SB35 is as expected; however AB2162 is not in alignment with domain expectations. AB2162 is a streamlining bill and should never have a negative coefficient (e.g. negatively impact if a project is streamlined or not). AB2345, in theory, is not expected to influence approval times. More data needed."
   ]
  },
  {
   "cell_type": "markdown",
   "metadata": {},
   "source": [
    "Accuracy improved as features are selected and reduced; however, due to limited dataset training data SIGNIFICANTLY AFFECTED model. Larger dataset needed for more reliable model."
   ]
  },
  {
   "cell_type": "markdown",
   "metadata": {},
   "source": [
    "For the logistic regression model, with this small dataset, domain knowledge is required to guide model. Logistic regression is not recommended for this small dataset."
   ]
  },
  {
   "cell_type": "markdown",
   "metadata": {},
   "source": [
    "# Validation: 3 Classification Model Comparison Conclusion"
   ]
  },
  {
   "cell_type": "markdown",
   "metadata": {},
   "source": [
    "All optimized models resulted in accuracies ranging from 78% to 91% and macro average ROC AUC from 78% to 93%."
   ]
  },
  {
   "cell_type": "markdown",
   "metadata": {},
   "source": [
    "The best model is the Logistic Regression Classifier, which offers the highest accuracy at 87% and a macro average receiver operating characteristic (ROC) area under the curve (AUC) [True Positives vs False Positives] of 93% for this iteration; however, reliability of the model fluctuates greatly based on the model's training dataset. A larger dataset is expected to help stabilize the models results. "
   ]
  },
  {
   "cell_type": "markdown",
   "metadata": {},
   "source": [
    "The most reliable (consistent) model based on current dataset and domain knowledge is the Decision Tree Classifier, which offers the highest accuracy at 83% and a macro average receiver operating characteristic (ROC) area under the curve (AUC) [True Positives vs False Positives] of 88%."
   ]
  },
  {
   "cell_type": "markdown",
   "metadata": {},
   "source": [
    "That said, as data becomes available, these models are poised for use and can be re-run to compare as future datasets grow and become available."
   ]
  }
 ],
 "metadata": {
  "kernelspec": {
   "display_name": "Python 3",
   "language": "python",
   "name": "python3"
  },
  "language_info": {
   "codemirror_mode": {
    "name": "ipython",
    "version": 3
   },
   "file_extension": ".py",
   "mimetype": "text/x-python",
   "name": "python",
   "nbconvert_exporter": "python",
   "pygments_lexer": "ipython3",
   "version": "3.8.8"
  }
 },
 "nbformat": 4,
 "nbformat_minor": 4
}
